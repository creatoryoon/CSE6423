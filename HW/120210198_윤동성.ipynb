{
 "cells": [
  {
   "cell_type": "markdown",
   "id": "15edc380",
   "metadata": {},
   "source": [
    "## 기본적인 gym의 mountain car 동작"
   ]
  },
  {
   "cell_type": "code",
   "execution_count": 171,
   "id": "0c29f2c8",
   "metadata": {},
   "outputs": [
    {
     "name": "stdout",
     "output_type": "stream",
     "text": [
      "Box([-1.2  -0.07], [0.6  0.07], (2,), float32)\n"
     ]
    }
   ],
   "source": [
    "#https://davinci-ai.tistory.com/33 참조하였습니다.\n",
    "\n",
    "import gym\n",
    "import tensorflow as tf\n",
    "import random\n",
    "import numpy as np\n",
    "\n",
    "env = gym.make('MountainCar-v0')   # env = gym에서 제공하는 환경으로, 언덕이며 왼쪽과 오른쪽을 반복하여 가속도를 만들어야 오를 수 있음.\n",
    "print(env.observation_space) # 관찰공간으로, agent가 환경을 볼 수 있는 범위이다.\n"
   ]
  },
  {
   "cell_type": "code",
   "execution_count": 172,
   "id": "0e6e8f72",
   "metadata": {},
   "outputs": [
    {
     "name": "stdout",
     "output_type": "stream",
     "text": [
      "[-1.2  -0.07]\n",
      "Box([-1.2  -0.07], [0.6  0.07], (2,), float32)\n"
     ]
    }
   ],
   "source": [
    "print(env.observation_space.low) # x축 좌표의 최솟값, 최소 속도\n",
    "print(env.observation_space)"
   ]
  },
  {
   "cell_type": "code",
   "execution_count": 173,
   "id": "8f31f3f6",
   "metadata": {},
   "outputs": [
    {
     "name": "stdout",
     "output_type": "stream",
     "text": [
      "[0.6  0.07]\n"
     ]
    }
   ],
   "source": [
    "print(env.observation_space.high) # x축 좌표의 최댓값, 최대 속도"
   ]
  },
  {
   "cell_type": "code",
   "execution_count": 174,
   "id": "efd9b078",
   "metadata": {},
   "outputs": [
    {
     "name": "stdout",
     "output_type": "stream",
     "text": [
      "200\n"
     ]
    }
   ],
   "source": [
    "print(env._max_episode_steps)"
   ]
  },
  {
   "cell_type": "code",
   "execution_count": 175,
   "id": "7563312a",
   "metadata": {},
   "outputs": [
    {
     "name": "stdout",
     "output_type": "stream",
     "text": [
      "Discrete(3)\n"
     ]
    }
   ],
   "source": [
    "print(env.action_space) # agent가 할 수 있는 행동의 경우의 수, discrete는 이산적, 정수로 나눌수 있음을 뜻한다.\n",
    "# agent : car, action : left, stop, right이고,  reward는 200이하의 step에서 time step마다 -1, 깃발(x축 0.5지점)에 도착하는 것(종료 조건, 최대 보상 조건)이 목표임"
   ]
  },
  {
   "cell_type": "code",
   "execution_count": null,
   "id": "260cc4b6",
   "metadata": {},
   "outputs": [],
   "source": []
  },
  {
   "cell_type": "code",
   "execution_count": 176,
   "id": "e6641166",
   "metadata": {},
   "outputs": [
    {
     "name": "stdout",
     "output_type": "stream",
     "text": [
      "1\n",
      "(array([-5.33756116e-01,  7.67435740e-05]), -1.0, False, {})\n"
     ]
    }
   ],
   "source": [
    "env = gym.make('MountainCar-v0') # 환경 생성\n",
    "env.reset() # 환경 초기화, 안해주면 render 되지 않음\n",
    "\n",
    "\n",
    "action = env.action_space.sample() # 랜덤한 액션 수행, 0,1,2중 하나 랜덤으로 리턴.\n",
    "print(action) # 액션\n",
    "print(env.step(action)) # 수행 결과. 환경, 보상, ep 종료여부\n",
    "\n",
    "env.render() # 실행결과 화면으로 출력\n",
    "env.close() # 안해주면 render에서 멈춤\n",
    "## 여기까지가 기본적인 명령어"
   ]
  },
  {
   "cell_type": "markdown",
   "id": "fb17ba5c",
   "metadata": {},
   "source": [
    "## ep의 수행"
   ]
  },
  {
   "cell_type": "code",
   "execution_count": 177,
   "id": "095581f4",
   "metadata": {},
   "outputs": [
    {
     "name": "stdout",
     "output_type": "stream",
     "text": [
      "[-0.48274232 -0.00131545]\n",
      "[-0.48536342 -0.0026211 ]\n",
      "[-0.48827066 -0.00290724]\n",
      "[-0.49144237 -0.0031717 ]\n",
      "[-0.49385487 -0.0024125 ]\n",
      "[-0.49649016 -0.00263529]\n",
      "[-0.49932854 -0.00283838]\n",
      "[-0.50134878 -0.00202024]\n",
      "[-0.50453577 -0.00318699]\n",
      "[-0.50886566 -0.00432989]\n",
      "[-0.51430602 -0.00544035]\n",
      "[-0.51981605 -0.00551004]\n",
      "[-0.52435446 -0.00453841]\n",
      "[-0.5288872  -0.00453274]\n",
      "[-0.53338028 -0.00449308]\n",
      "[-0.53780001 -0.00441973]\n",
      "[-0.54111326 -0.00331325]\n",
      "[-0.54329522 -0.00218195]\n",
      "[-0.54532953 -0.00203432]\n",
      "[-0.54720098 -0.00187145]\n",
      "[-0.54889556 -0.00169458]\n",
      "[-5.49400602e-01 -5.05037974e-04]\n",
      "[-5.49712319e-01 -3.11717464e-04]\n",
      "[-0.54882839  0.00088393]\n",
      "[-0.54775541  0.00107298]\n",
      "[-0.54550142  0.00225399]\n",
      "[-0.54408328  0.00141814]\n",
      "[-0.5415116   0.00257168]\n",
      "[-0.53980563  0.00170596]\n",
      "[-0.53697817  0.00282747]\n",
      "[-0.53305038  0.00392778]\n",
      "[-0.53005172  0.00299866]\n",
      "[-0.52800467  0.00204706]\n",
      "[-0.52492457  0.0030801 ]\n",
      "[-0.52183453  0.00309004]\n",
      "[-0.51875772  0.00307681]\n",
      "[-0.51571721  0.0030405 ]\n",
      "[-0.51373582  0.0019814 ]\n",
      "[-0.51182838  0.00190744]\n",
      "[-0.5110092   0.00081918]\n",
      "[-5.11284426e-01 -2.75222991e-04]\n",
      "[-0.51265199 -0.00136756]\n",
      "[-0.51410163 -0.00144965]\n",
      "[-0.5156225  -0.00152086]\n",
      "[-0.51620318 -0.00058068]\n",
      "[-0.51683932 -0.00063614]\n",
      "[-0.51852616 -0.00168684]\n",
      "[-0.52025104 -0.00172488]\n",
      "[-0.52300102 -0.00274999]\n",
      "[-0.52675549 -0.00375447]\n",
      "[-0.53048629 -0.00373079]\n",
      "[-0.53316543 -0.00267914]\n",
      "[-0.53677283 -0.0036074 ]\n",
      "[-0.54028145 -0.00350862]\n",
      "[-0.54266501 -0.00238355]\n",
      "[-0.54590564 -0.00324064]\n",
      "[-0.5489791  -0.00307346]\n",
      "[-0.55086239 -0.00188329]\n",
      "[-0.55254144 -0.00167904]\n",
      "[-0.55400368 -0.00146224]\n",
      "[-0.5552382  -0.00123452]\n",
      "[-0.55723579 -0.00199758]\n",
      "[-0.55998152 -0.00274573]\n",
      "[-0.56345493 -0.0034734 ]\n",
      "[-0.56763012 -0.0041752 ]\n",
      "[-0.57047604 -0.00284592]\n",
      "[-0.57397154 -0.0034955 ]\n",
      "[-0.57609068 -0.00211914]\n",
      "[-0.57681775 -0.00072707]\n",
      "[-0.57814738 -0.00132963]\n",
      "[-0.57906971 -0.00092233]\n",
      "[-5.78577935e-01  4.91779508e-04]\n",
      "[-0.57667568  0.00190226]\n",
      "[-0.57337703  0.00329865]\n",
      "[-0.56870642  0.0046706 ]\n",
      "[-0.56269854  0.00600788]\n",
      "[-0.55639809  0.00630046]\n",
      "[-0.54985203  0.00654605]\n",
      "[-0.54210928  0.00774275]\n",
      "[-0.53422778  0.00788151]\n",
      "[-0.52726657  0.00696121]\n",
      "[-0.52027785  0.00698872]\n",
      "[-0.51431403  0.00596381]\n",
      "[-0.50841985  0.00589419]\n",
      "[-0.50263946  0.00578038]\n",
      "[-0.49801617  0.00462329]\n",
      "[-0.49458456  0.00343161]\n",
      "[-0.49037028  0.00421428]\n",
      "[-0.48740481  0.00296548]\n",
      "[-0.48571025  0.00169456]\n",
      "[-0.48329925  0.002411  ]\n",
      "[-0.48218975  0.00110949]\n",
      "[-0.48139003  0.00079972]\n",
      "[-0.48190603 -0.000516  ]\n",
      "[-0.4837339  -0.00182788]\n",
      "[-0.48686006 -0.00312615]\n",
      "[-0.49026119 -0.00340114]\n",
      "[-0.49491194 -0.00465075]\n",
      "[-0.49977758 -0.00486564]\n",
      "[-0.50382172 -0.00404414]\n",
      "[-0.5080141  -0.00419238]\n",
      "[-0.51232333 -0.00430923]\n",
      "[-0.51671711 -0.00439378]\n",
      "[-0.52116249 -0.00444538]\n",
      "[-0.52662615 -0.00546366]\n",
      "[-0.5320671  -0.00544095]\n",
      "[-0.53744455 -0.00537745]\n",
      "[-0.54271818 -0.00527363]\n",
      "[-0.5478485  -0.00513032]\n",
      "[-0.5527971 -0.0049486]\n",
      "[-0.556527  -0.0037299]\n",
      "[-0.56101033 -0.00448334]\n",
      "[-0.56521367 -0.00420334]\n",
      "[-0.56810571 -0.00289204]\n",
      "[-0.56966493 -0.00155923]\n",
      "[-0.57187976 -0.00221483]\n",
      "[-0.57473374 -0.00285399]\n",
      "[-0.57620572 -0.00147198]\n",
      "[-0.57728478 -0.00107906]\n",
      "[-0.57896293 -0.00167815]\n",
      "[-0.58022776 -0.00126483]\n",
      "[-0.58206991 -0.00184215]\n",
      "[-0.58347577 -0.00140586]\n",
      "[-0.58443497 -0.0009592 ]\n",
      "[-5.83940422e-01  4.94546282e-04]\n",
      "[-5.83995781e-01 -5.53590715e-05]\n",
      "[-5.83600637e-01  3.95143978e-04]\n",
      "[-5.83757905e-01 -1.57268354e-04]\n",
      "[-0.58446643 -0.00070852]\n",
      "[-0.58572097 -0.00125455]\n",
      "[-0.58751229 -0.00179132]\n",
      "[-0.58982719 -0.0023149 ]\n",
      "[-0.59164865 -0.00182145]\n",
      "[-5.91963259e-01 -3.14614152e-04]\n",
      "[-0.59076873  0.00119453]\n",
      "[-0.59007382  0.0006949 ]\n",
      "[-5.89883653e-01  1.90169375e-04]\n",
      "[-5.90199617e-01 -3.15963966e-04]\n",
      "[-5.90019391e-01  1.80225501e-04]\n",
      "[-5.90344301e-01 -3.24909905e-04]\n",
      "[-5.90171958e-01  1.72343061e-04]\n",
      "[-5.90503629e-01 -3.31670787e-04]\n",
      "[-5.90336876e-01  1.66753204e-04]\n",
      "[-0.58867292  0.00166395]\n",
      "[-0.58652401  0.00214891]\n",
      "[-0.58490596  0.00161805]\n",
      "[-0.58383069  0.00107527]\n",
      "[-0.58130613  0.00252456]\n",
      "[-0.57835093  0.0029552 ]\n",
      "[-0.57598693  0.002364  ]\n",
      "[-0.57323163  0.00275529]\n",
      "[-0.57010547  0.00312617]\n",
      "[-0.56563163  0.00447384]\n",
      "[-0.56184338  0.00378825]\n",
      "[-0.55776893  0.00407445]\n",
      "[-0.55243864  0.00533028]\n",
      "[-0.54789233  0.00454631]\n",
      "[-0.54316398  0.00472835]\n",
      "[-0.53728898  0.00587501]\n",
      "[-0.53131132  0.00597765]\n",
      "[-0.52627583  0.00503549]\n",
      "[-0.52222026  0.00405557]\n",
      "[-0.51817503  0.00404523]\n",
      "[-0.51417047  0.00400456]\n",
      "[-0.51123662  0.00293385]\n",
      "[-0.50739546  0.00384116]\n",
      "[-0.50367578  0.00371968]\n",
      "[-0.49910543  0.00457035]\n",
      "[-0.49371862  0.00538681]\n",
      "[-0.48955561  0.00416301]\n",
      "[-0.48564748  0.00390813]\n",
      "[-0.48302337  0.00262411]\n",
      "[-0.48070282  0.00232055]\n",
      "[-0.47770311  0.00299971]\n",
      "[-0.47604653  0.00165658]\n",
      "[-4.75745376e-01  3.01149449e-04]\n",
      "[-0.4768019  -0.00105652]\n",
      "[-0.47820824 -0.00140634]\n",
      "[-0.47995396 -0.00174572]\n",
      "[-0.48302609 -0.00307212]\n",
      "[-0.48640175 -0.00337567]\n",
      "[-0.49105582 -0.00465407]\n",
      "[-0.49495357 -0.00389775]\n",
      "[-0.4990659  -0.00411233]\n",
      "[-0.50336206 -0.00429616]\n",
      "[-0.5088099  -0.00544784]\n",
      "[-0.51336862 -0.00455872]\n",
      "[-0.51800405 -0.00463543]\n",
      "[-0.52368144 -0.00567739]\n",
      "[-0.52935821 -0.00567677]\n",
      "[-0.53599179 -0.00663358]\n",
      "[-0.54353244 -0.00754065]\n",
      "[-0.55092368 -0.00739124]\n",
      "[-0.55711021 -0.00618653]\n",
      "[-0.56304583 -0.00593562]\n",
      "[-0.56868629 -0.00564046]\n",
      "[-0.57298962 -0.00430333]\n",
      "[-0.57692387 -0.00393425]\n",
      "[-0.57945989 -0.00253602]\n",
      "[-0.58157891 -0.00211902]\n",
      "-200.0\n",
      "200\n",
      "False\n"
     ]
    }
   ],
   "source": [
    "env = gym.make('MountainCar-v0') # 환경 생성\n",
    "env.reset() # 환경 초기화, 안해주면 render 되지 않음\n",
    "state = 0 # state 변수\n",
    "score = 0\n",
    "suc = False\n",
    "while True: \n",
    "    action = env.action_space.sample() \n",
    "    obs, reward, done, info = env.step(action) \n",
    "    print(obs)\n",
    "    score = score + reward \n",
    "    state = state + 1 \n",
    "    if done: \n",
    "        break\n",
    "    env.render()\n",
    "env.close() # 안해주면 render에서 멈춤\n",
    "if score > -200:\n",
    "    suc = True\n",
    "print(score)\n",
    "print(state)\n",
    "print(suc)"
   ]
  },
  {
   "cell_type": "markdown",
   "id": "95ce84fd",
   "metadata": {},
   "source": [
    "## 반복으로 랜덤한 act를 수행"
   ]
  },
  {
   "cell_type": "code",
   "execution_count": 178,
   "id": "e08fb018",
   "metadata": {},
   "outputs": [
    {
     "name": "stdout",
     "output_type": "stream",
     "text": [
      "all of scores mean -199.91452\n",
      "req scores 232\n",
      "mean of req scores -181.64655172413794\n"
     ]
    }
   ],
   "source": [
    "env = gym.make('MountainCar-v0') \n",
    "env.reset() # 환경 초기화\n",
    "\n",
    "scores = []\n",
    "train_data = [] \n",
    "apt_scores = [] \n",
    "# req_state = 200 # 일정 횟수, 200번 내로 성공한 경우 즉, 성공한 경우만 기록해야하므로 적당한 값을 준다.\n",
    "req_score = -198\n",
    "for i in range(50000): \n",
    "    env.reset() \n",
    "    score = 0 \n",
    "#     state = 0\n",
    "    result = [] \n",
    "    previous_obs = [] \n",
    "    \n",
    "    while True: \n",
    "        action = env.action_space.sample()         \n",
    "        obs, reward, done, info = env.step(action) \n",
    "        if len(pre_obs) > 0: \n",
    "            result.append([pre_obs, action]) \n",
    "        pre_obs = obs \n",
    "        if obs[0] > -0.2: # x 좌표에 따라 리워드를 준다.\n",
    "            reward = 1 \n",
    "        score = score + reward\n",
    "#         state = state + 1\n",
    "        if done: \n",
    "            break \n",
    "#         env.render() # 실행결과 화면으로 출력\n",
    "    scores.append(score) \n",
    "    if score > req_score: \n",
    "        apt_scores.append(score) \n",
    "        \n",
    "        for data in result: \n",
    "            train_data.append(data) \n",
    "            \n",
    "\n",
    "env.close() # 안해주면 render에서 멈춤\n",
    "\n",
    "print('all of scores mean', np.mean(scores)) \n",
    "print('req scores', len(apt_scores)) \n",
    "print('mean of req scores', np.mean(apt_scores))\n"
   ]
  },
  {
   "cell_type": "markdown",
   "id": "9466f980",
   "metadata": {},
   "source": [
    "## Train"
   ]
  },
  {
   "cell_type": "code",
   "execution_count": 179,
   "id": "82f25430",
   "metadata": {},
   "outputs": [
    {
     "name": "stdout",
     "output_type": "stream",
     "text": [
      "(46400, 2)\n",
      "(46400, 1)\n"
     ]
    }
   ],
   "source": [
    "train_X = np.array([i[0] for i in train_data]).reshape(-1, 2) # 상태를 X\n",
    "train_Y = np.array([i[1] for i in train_data]).reshape(-1, 1) # 그에 따른 행동을 Y\n",
    "print(train_X.shape)\n",
    "print(train_Y.shape)"
   ]
  },
  {
   "cell_type": "code",
   "execution_count": 180,
   "id": "d5b84da5",
   "metadata": {},
   "outputs": [],
   "source": [
    "model = tf.keras.Sequential([ \n",
    "    tf.keras.layers.Dense(128, input_shape=(2,), activation='relu'), \n",
    "    tf.keras.layers.Dense(32, activation='relu'), \n",
    "    tf.keras.layers.Dense(3, activation='softmax') \n",
    "]) "
   ]
  },
  {
   "cell_type": "code",
   "execution_count": 181,
   "id": "e237820a",
   "metadata": {},
   "outputs": [
    {
     "name": "stdout",
     "output_type": "stream",
     "text": [
      "Epoch 1/30\n",
      "1088/1088 [==============================] - 1s 897us/step - loss: 1.0982 - accuracy: 0.3435 - val_loss: 1.0929 - val_accuracy: 0.3909\n",
      "Epoch 2/30\n",
      "1088/1088 [==============================] - 1s 817us/step - loss: 1.0904 - accuracy: 0.3927 - val_loss: 1.0878 - val_accuracy: 0.3925\n",
      "Epoch 3/30\n",
      "1088/1088 [==============================] - 1s 827us/step - loss: 1.0856 - accuracy: 0.4039 - val_loss: 1.0861 - val_accuracy: 0.3966\n",
      "Epoch 4/30\n",
      "1088/1088 [==============================] - 1s 849us/step - loss: 1.0855 - accuracy: 0.4029 - val_loss: 1.0860 - val_accuracy: 0.3970\n",
      "Epoch 5/30\n",
      "1088/1088 [==============================] - 1s 788us/step - loss: 1.0860 - accuracy: 0.3988 - val_loss: 1.0844 - val_accuracy: 0.3969\n",
      "Epoch 6/30\n",
      "1088/1088 [==============================] - 1s 873us/step - loss: 1.0846 - accuracy: 0.4029 - val_loss: 1.0846 - val_accuracy: 0.3966\n",
      "Epoch 7/30\n",
      "1088/1088 [==============================] - 1s 865us/step - loss: 1.0847 - accuracy: 0.4036 - val_loss: 1.0829 - val_accuracy: 0.3979\n",
      "Epoch 8/30\n",
      "1088/1088 [==============================] - 1s 858us/step - loss: 1.0826 - accuracy: 0.4065 - val_loss: 1.0822 - val_accuracy: 0.3985\n",
      "Epoch 9/30\n",
      "1088/1088 [==============================] - 1s 806us/step - loss: 1.0826 - accuracy: 0.4051 - val_loss: 1.0830 - val_accuracy: 0.3991\n",
      "Epoch 10/30\n",
      "1088/1088 [==============================] - 1s 816us/step - loss: 1.0805 - accuracy: 0.4100 - val_loss: 1.0813 - val_accuracy: 0.3992\n",
      "Epoch 11/30\n",
      "1088/1088 [==============================] - 1s 941us/step - loss: 1.0851 - accuracy: 0.3968 - val_loss: 1.0857 - val_accuracy: 0.3964\n",
      "Epoch 12/30\n",
      "1088/1088 [==============================] - 1s 952us/step - loss: 1.0823 - accuracy: 0.4069 - val_loss: 1.0806 - val_accuracy: 0.3984\n",
      "Epoch 13/30\n",
      "1088/1088 [==============================] - 1s 941us/step - loss: 1.0818 - accuracy: 0.4044 - val_loss: 1.0848 - val_accuracy: 0.3978\n",
      "Epoch 14/30\n",
      "1088/1088 [==============================] - 1s 985us/step - loss: 1.0807 - accuracy: 0.4082 - val_loss: 1.0802 - val_accuracy: 0.4001\n",
      "Epoch 15/30\n",
      "1088/1088 [==============================] - 1s 1ms/step - loss: 1.0812 - accuracy: 0.4027 - val_loss: 1.0841 - val_accuracy: 0.3914\n",
      "Epoch 16/30\n",
      "1088/1088 [==============================] - 1s 1ms/step - loss: 1.0804 - accuracy: 0.4060 - val_loss: 1.0804 - val_accuracy: 0.3981\n",
      "Epoch 17/30\n",
      "1088/1088 [==============================] - 1s 913us/step - loss: 1.0810 - accuracy: 0.4038 - val_loss: 1.0800 - val_accuracy: 0.4006\n",
      "Epoch 18/30\n",
      "1088/1088 [==============================] - 1s 1ms/step - loss: 1.0811 - accuracy: 0.4033 - val_loss: 1.0805 - val_accuracy: 0.3974\n",
      "Epoch 19/30\n",
      "1088/1088 [==============================] - 1s 866us/step - loss: 1.0804 - accuracy: 0.4051 - val_loss: 1.0815 - val_accuracy: 0.3997\n",
      "Epoch 20/30\n",
      "1088/1088 [==============================] - 1s 922us/step - loss: 1.0813 - accuracy: 0.4038 - val_loss: 1.0798 - val_accuracy: 0.4003\n",
      "Epoch 21/30\n",
      "1088/1088 [==============================] - 1s 851us/step - loss: 1.0808 - accuracy: 0.4034 - val_loss: 1.0795 - val_accuracy: 0.4015\n",
      "Epoch 22/30\n",
      "1088/1088 [==============================] - 1s 860us/step - loss: 1.0812 - accuracy: 0.4052 - val_loss: 1.0800 - val_accuracy: 0.3971\n",
      "Epoch 23/30\n",
      "1088/1088 [==============================] - 1s 947us/step - loss: 1.0812 - accuracy: 0.4022 - val_loss: 1.0806 - val_accuracy: 0.3959\n",
      "Epoch 24/30\n",
      "1088/1088 [==============================] - 1s 820us/step - loss: 1.0795 - accuracy: 0.4073 - val_loss: 1.0801 - val_accuracy: 0.3997\n",
      "Epoch 25/30\n",
      "1088/1088 [==============================] - 1s 1ms/step - loss: 1.0791 - accuracy: 0.4058 - val_loss: 1.0798 - val_accuracy: 0.3996\n",
      "Epoch 26/30\n",
      "1088/1088 [==============================] - 1s 827us/step - loss: 1.0800 - accuracy: 0.4094 - val_loss: 1.0812 - val_accuracy: 0.3992\n"
     ]
    }
   ],
   "source": [
    "model.compile(\n",
    "    optimizer=tf.optimizers.Adam(), \n",
    "    loss='sparse_categorical_crossentropy', \n",
    "    metrics=['accuracy']\n",
    ") \n",
    "callback = tf.keras.callbacks.EarlyStopping(monitor='val_loss', patience=5) \n",
    "history = model.fit(train_X, train_Y, epochs=30, callbacks=[callback], batch_size=32, validation_split=0.25)\n",
    "\n"
   ]
  },
  {
   "cell_type": "code",
   "execution_count": 182,
   "id": "bac48237",
   "metadata": {
    "scrolled": true
   },
   "outputs": [
    {
     "data": {
      "image/png": "[encoded data removed]",
      "text/plain": [
       "<Figure size 432x288 with 1 Axes>"
      ]
     },
     "metadata": {
      "needs_background": "light"
     },
     "output_type": "display_data"
    }
   ],
   "source": [
    "import matplotlib.pyplot as plt \n",
    "plt.plot(history.history['accuracy'], 'b-', label='accuracy') \n",
    "plt.plot(history.history['val_accuracy'], 'k--', label='val_accuracy') \n",
    "plt.legend() \n",
    "plt.show()"
   ]
  },
  {
   "cell_type": "code",
   "execution_count": 183,
   "id": "eec3ca83",
   "metadata": {
    "scrolled": true
   },
   "outputs": [
    {
     "name": "stdout",
     "output_type": "stream",
     "text": [
      "score -126.0\n",
      "state 126\n"
     ]
    }
   ],
   "source": [
    "\n",
    "env.close()\n",
    "env.reset()\n",
    "score = 0 \n",
    "state = 0 \n",
    "previous_obs = [] \n",
    "while True: \n",
    "    if len(previous_obs) == 0: \n",
    "        action = env.action_space.sample() \n",
    "    else: \n",
    "        logit = model.predict(np.expand_dims(previous_obs, axis=0))[0] \n",
    "        action = np.argmax(logit) \n",
    "    obs, reward, done, _ = env.step(action) \n",
    "    previous_obs = obs \n",
    "    score = reward + score \n",
    "    state = state + 1\n",
    "    env.render()\n",
    "    if done: \n",
    "        break \n",
    "        \n",
    "print('score', score) \n",
    "print('state', state) \n",
    "env.close()\n",
    "\n"
   ]
  }
 ],
 "metadata": {
  "kernelspec": {
   "display_name": "Python 3",
   "language": "python",
   "name": "python3"
  },
  "language_info": {
   "codemirror_mode": {
    "name": "ipython",
    "version": 3
   },
   "file_extension": ".py",
   "mimetype": "text/x-python",
   "name": "python",
   "nbconvert_exporter": "python",
   "pygments_lexer": "ipython3",
   "version": "3.7.10"
  }
 },
 "nbformat": 4,
 "nbformat_minor": 5
}
